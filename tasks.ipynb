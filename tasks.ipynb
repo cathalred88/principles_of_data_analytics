{
 "cells": [
  {
   "cell_type": "markdown",
   "metadata": {
    "vscode": {
     "languageId": "plaintext"
    }
   },
   "source": [
    "# Tasks"
   ]
  },
  {
   "cell_type": "code",
   "execution_count": 1,
   "metadata": {},
   "outputs": [],
   "source": [
    "# Imports.\n",
    "from sklearn.datasets import load_iris\n",
    "import pandas as pd\n",
    "import numpy as np\n",
    "from pathlib import Path  \n",
    "import os as os\n",
    "import matplotlib.pyplot as pt\n",
    "\n",
    "\n"
   ]
  },
  {
   "cell_type": "markdown",
   "metadata": {},
   "source": [
    "## Task 1: Source the Data Set"
   ]
  },
  {
   "cell_type": "markdown",
   "metadata": {},
   "source": []
  },
  {
   "cell_type": "code",
   "execution_count": 2,
   "metadata": {},
   "outputs": [
    {
     "name": "stdout",
     "output_type": "stream",
     "text": [
      "<class 'sklearn.utils._bunch.Bunch'>\n",
      "{'data': array([[5.1, 3.5, 1.4, 0.2],\n",
      "       [4.9, 3. , 1.4, 0.2],\n",
      "       [4.7, 3.2, 1.3, 0.2],\n",
      "       [4.6, 3.1, 1.5, 0.2],\n",
      "       [5. , 3.6, 1.4, 0.2],\n",
      "       [5.4, 3.9, 1.7, 0.4],\n",
      "       [4.6, 3.4, 1.4, 0.3],\n",
      "       [5. , 3.4, 1.5, 0.2],\n",
      "       [4.4, 2.9, 1.4, 0.2],\n",
      "       [4.9, 3.1, 1.5, 0.1],\n",
      "       [5.4, 3.7, 1.5, 0.2],\n",
      "       [4.8, 3.4, 1.6, 0.2],\n",
      "       [4.8, 3. , 1.4, 0.1],\n",
      "       [4.3, 3. , 1.1, 0.1],\n",
      "       [5.8, 4. , 1.2, 0.2],\n",
      "       [5.7, 4.4, 1.5, 0.4],\n",
      "       [5.4, 3.9, 1.3, 0.4],\n",
      "       [5.1, 3.5, 1.4, 0.3],\n",
      "       [5.7, 3.8, 1.7, 0.3],\n",
      "       [5.1, 3.8, 1.5, 0.3],\n",
      "       [5.4, 3.4, 1.7, 0.2],\n",
      "       [5.1, 3.7, 1.5, 0.4],\n",
      "       [4.6, 3.6, 1. , 0.2],\n",
      "       [5.1, 3.3, 1.7, 0.5],\n",
      "       [4.8, 3.4, 1.9, 0.2],\n",
      "       [5. , 3. , 1.6, 0.2],\n",
      "       [5. , 3.4, 1.6, 0.4],\n",
      "       [5.2, 3.5, 1.5, 0.2],\n",
      "       [5.2, 3.4, 1.4, 0.2],\n",
      "       [4.7, 3.2, 1.6, 0.2],\n",
      "       [4.8, 3.1, 1.6, 0.2],\n",
      "       [5.4, 3.4, 1.5, 0.4],\n",
      "       [5.2, 4.1, 1.5, 0.1],\n",
      "       [5.5, 4.2, 1.4, 0.2],\n",
      "       [4.9, 3.1, 1.5, 0.2],\n",
      "       [5. , 3.2, 1.2, 0.2],\n",
      "       [5.5, 3.5, 1.3, 0.2],\n",
      "       [4.9, 3.6, 1.4, 0.1],\n",
      "       [4.4, 3. , 1.3, 0.2],\n",
      "       [5.1, 3.4, 1.5, 0.2],\n",
      "       [5. , 3.5, 1.3, 0.3],\n",
      "       [4.5, 2.3, 1.3, 0.3],\n",
      "       [4.4, 3.2, 1.3, 0.2],\n",
      "       [5. , 3.5, 1.6, 0.6],\n",
      "       [5.1, 3.8, 1.9, 0.4],\n",
      "       [4.8, 3. , 1.4, 0.3],\n",
      "       [5.1, 3.8, 1.6, 0.2],\n",
      "       [4.6, 3.2, 1.4, 0.2],\n",
      "       [5.3, 3.7, 1.5, 0.2],\n",
      "       [5. , 3.3, 1.4, 0.2],\n",
      "       [7. , 3.2, 4.7, 1.4],\n",
      "       [6.4, 3.2, 4.5, 1.5],\n",
      "       [6.9, 3.1, 4.9, 1.5],\n",
      "       [5.5, 2.3, 4. , 1.3],\n",
      "       [6.5, 2.8, 4.6, 1.5],\n",
      "       [5.7, 2.8, 4.5, 1.3],\n",
      "       [6.3, 3.3, 4.7, 1.6],\n",
      "       [4.9, 2.4, 3.3, 1. ],\n",
      "       [6.6, 2.9, 4.6, 1.3],\n",
      "       [5.2, 2.7, 3.9, 1.4],\n",
      "       [5. , 2. , 3.5, 1. ],\n",
      "       [5.9, 3. , 4.2, 1.5],\n",
      "       [6. , 2.2, 4. , 1. ],\n",
      "       [6.1, 2.9, 4.7, 1.4],\n",
      "       [5.6, 2.9, 3.6, 1.3],\n",
      "       [6.7, 3.1, 4.4, 1.4],\n",
      "       [5.6, 3. , 4.5, 1.5],\n",
      "       [5.8, 2.7, 4.1, 1. ],\n",
      "       [6.2, 2.2, 4.5, 1.5],\n",
      "       [5.6, 2.5, 3.9, 1.1],\n",
      "       [5.9, 3.2, 4.8, 1.8],\n",
      "       [6.1, 2.8, 4. , 1.3],\n",
      "       [6.3, 2.5, 4.9, 1.5],\n",
      "       [6.1, 2.8, 4.7, 1.2],\n",
      "       [6.4, 2.9, 4.3, 1.3],\n",
      "       [6.6, 3. , 4.4, 1.4],\n",
      "       [6.8, 2.8, 4.8, 1.4],\n",
      "       [6.7, 3. , 5. , 1.7],\n",
      "       [6. , 2.9, 4.5, 1.5],\n",
      "       [5.7, 2.6, 3.5, 1. ],\n",
      "       [5.5, 2.4, 3.8, 1.1],\n",
      "       [5.5, 2.4, 3.7, 1. ],\n",
      "       [5.8, 2.7, 3.9, 1.2],\n",
      "       [6. , 2.7, 5.1, 1.6],\n",
      "       [5.4, 3. , 4.5, 1.5],\n",
      "       [6. , 3.4, 4.5, 1.6],\n",
      "       [6.7, 3.1, 4.7, 1.5],\n",
      "       [6.3, 2.3, 4.4, 1.3],\n",
      "       [5.6, 3. , 4.1, 1.3],\n",
      "       [5.5, 2.5, 4. , 1.3],\n",
      "       [5.5, 2.6, 4.4, 1.2],\n",
      "       [6.1, 3. , 4.6, 1.4],\n",
      "       [5.8, 2.6, 4. , 1.2],\n",
      "       [5. , 2.3, 3.3, 1. ],\n",
      "       [5.6, 2.7, 4.2, 1.3],\n",
      "       [5.7, 3. , 4.2, 1.2],\n",
      "       [5.7, 2.9, 4.2, 1.3],\n",
      "       [6.2, 2.9, 4.3, 1.3],\n",
      "       [5.1, 2.5, 3. , 1.1],\n",
      "       [5.7, 2.8, 4.1, 1.3],\n",
      "       [6.3, 3.3, 6. , 2.5],\n",
      "       [5.8, 2.7, 5.1, 1.9],\n",
      "       [7.1, 3. , 5.9, 2.1],\n",
      "       [6.3, 2.9, 5.6, 1.8],\n",
      "       [6.5, 3. , 5.8, 2.2],\n",
      "       [7.6, 3. , 6.6, 2.1],\n",
      "       [4.9, 2.5, 4.5, 1.7],\n",
      "       [7.3, 2.9, 6.3, 1.8],\n",
      "       [6.7, 2.5, 5.8, 1.8],\n",
      "       [7.2, 3.6, 6.1, 2.5],\n",
      "       [6.5, 3.2, 5.1, 2. ],\n",
      "       [6.4, 2.7, 5.3, 1.9],\n",
      "       [6.8, 3. , 5.5, 2.1],\n",
      "       [5.7, 2.5, 5. , 2. ],\n",
      "       [5.8, 2.8, 5.1, 2.4],\n",
      "       [6.4, 3.2, 5.3, 2.3],\n",
      "       [6.5, 3. , 5.5, 1.8],\n",
      "       [7.7, 3.8, 6.7, 2.2],\n",
      "       [7.7, 2.6, 6.9, 2.3],\n",
      "       [6. , 2.2, 5. , 1.5],\n",
      "       [6.9, 3.2, 5.7, 2.3],\n",
      "       [5.6, 2.8, 4.9, 2. ],\n",
      "       [7.7, 2.8, 6.7, 2. ],\n",
      "       [6.3, 2.7, 4.9, 1.8],\n",
      "       [6.7, 3.3, 5.7, 2.1],\n",
      "       [7.2, 3.2, 6. , 1.8],\n",
      "       [6.2, 2.8, 4.8, 1.8],\n",
      "       [6.1, 3. , 4.9, 1.8],\n",
      "       [6.4, 2.8, 5.6, 2.1],\n",
      "       [7.2, 3. , 5.8, 1.6],\n",
      "       [7.4, 2.8, 6.1, 1.9],\n",
      "       [7.9, 3.8, 6.4, 2. ],\n",
      "       [6.4, 2.8, 5.6, 2.2],\n",
      "       [6.3, 2.8, 5.1, 1.5],\n",
      "       [6.1, 2.6, 5.6, 1.4],\n",
      "       [7.7, 3. , 6.1, 2.3],\n",
      "       [6.3, 3.4, 5.6, 2.4],\n",
      "       [6.4, 3.1, 5.5, 1.8],\n",
      "       [6. , 3. , 4.8, 1.8],\n",
      "       [6.9, 3.1, 5.4, 2.1],\n",
      "       [6.7, 3.1, 5.6, 2.4],\n",
      "       [6.9, 3.1, 5.1, 2.3],\n",
      "       [5.8, 2.7, 5.1, 1.9],\n",
      "       [6.8, 3.2, 5.9, 2.3],\n",
      "       [6.7, 3.3, 5.7, 2.5],\n",
      "       [6.7, 3. , 5.2, 2.3],\n",
      "       [6.3, 2.5, 5. , 1.9],\n",
      "       [6.5, 3. , 5.2, 2. ],\n",
      "       [6.2, 3.4, 5.4, 2.3],\n",
      "       [5.9, 3. , 5.1, 1.8]]), 'target': array([0, 0, 0, 0, 0, 0, 0, 0, 0, 0, 0, 0, 0, 0, 0, 0, 0, 0, 0, 0, 0, 0,\n",
      "       0, 0, 0, 0, 0, 0, 0, 0, 0, 0, 0, 0, 0, 0, 0, 0, 0, 0, 0, 0, 0, 0,\n",
      "       0, 0, 0, 0, 0, 0, 1, 1, 1, 1, 1, 1, 1, 1, 1, 1, 1, 1, 1, 1, 1, 1,\n",
      "       1, 1, 1, 1, 1, 1, 1, 1, 1, 1, 1, 1, 1, 1, 1, 1, 1, 1, 1, 1, 1, 1,\n",
      "       1, 1, 1, 1, 1, 1, 1, 1, 1, 1, 1, 1, 2, 2, 2, 2, 2, 2, 2, 2, 2, 2,\n",
      "       2, 2, 2, 2, 2, 2, 2, 2, 2, 2, 2, 2, 2, 2, 2, 2, 2, 2, 2, 2, 2, 2,\n",
      "       2, 2, 2, 2, 2, 2, 2, 2, 2, 2, 2, 2, 2, 2, 2, 2, 2, 2]), 'frame': None, 'target_names': array(['setosa', 'versicolor', 'virginica'], dtype='<U10'), 'DESCR': '.. _iris_dataset:\\n\\nIris plants dataset\\n--------------------\\n\\n**Data Set Characteristics:**\\n\\n:Number of Instances: 150 (50 in each of three classes)\\n:Number of Attributes: 4 numeric, predictive attributes and the class\\n:Attribute Information:\\n    - sepal length in cm\\n    - sepal width in cm\\n    - petal length in cm\\n    - petal width in cm\\n    - class:\\n            - Iris-Setosa\\n            - Iris-Versicolour\\n            - Iris-Virginica\\n\\n:Summary Statistics:\\n\\n============== ==== ==== ======= ===== ====================\\n                Min  Max   Mean    SD   Class Correlation\\n============== ==== ==== ======= ===== ====================\\nsepal length:   4.3  7.9   5.84   0.83    0.7826\\nsepal width:    2.0  4.4   3.05   0.43   -0.4194\\npetal length:   1.0  6.9   3.76   1.76    0.9490  (high!)\\npetal width:    0.1  2.5   1.20   0.76    0.9565  (high!)\\n============== ==== ==== ======= ===== ====================\\n\\n:Missing Attribute Values: None\\n:Class Distribution: 33.3% for each of 3 classes.\\n:Creator: R.A. Fisher\\n:Donor: Michael Marshall (MARSHALL%PLU@io.arc.nasa.gov)\\n:Date: July, 1988\\n\\nThe famous Iris database, first used by Sir R.A. Fisher. The dataset is taken\\nfrom Fisher\\'s paper. Note that it\\'s the same as in R, but not as in the UCI\\nMachine Learning Repository, which has two wrong data points.\\n\\nThis is perhaps the best known database to be found in the\\npattern recognition literature.  Fisher\\'s paper is a classic in the field and\\nis referenced frequently to this day.  (See Duda & Hart, for example.)  The\\ndata set contains 3 classes of 50 instances each, where each class refers to a\\ntype of iris plant.  One class is linearly separable from the other 2; the\\nlatter are NOT linearly separable from each other.\\n\\n.. dropdown:: References\\n\\n  - Fisher, R.A. \"The use of multiple measurements in taxonomic problems\"\\n    Annual Eugenics, 7, Part II, 179-188 (1936); also in \"Contributions to\\n    Mathematical Statistics\" (John Wiley, NY, 1950).\\n  - Duda, R.O., & Hart, P.E. (1973) Pattern Classification and Scene Analysis.\\n    (Q327.D83) John Wiley & Sons.  ISBN 0-471-22361-1.  See page 218.\\n  - Dasarathy, B.V. (1980) \"Nosing Around the Neighborhood: A New System\\n    Structure and Classification Rule for Recognition in Partially Exposed\\n    Environments\".  IEEE Transactions on Pattern Analysis and Machine\\n    Intelligence, Vol. PAMI-2, No. 1, 67-71.\\n  - Gates, G.W. (1972) \"The Reduced Nearest Neighbor Rule\".  IEEE Transactions\\n    on Information Theory, May 1972, 431-433.\\n  - See also: 1988 MLC Proceedings, 54-64.  Cheeseman et al\"s AUTOCLASS II\\n    conceptual clustering system finds 3 classes in the data.\\n  - Many, many more ...\\n', 'feature_names': ['sepal length (cm)', 'sepal width (cm)', 'petal length (cm)', 'petal width (cm)'], 'filename': 'iris.csv', 'data_module': 'sklearn.datasets.data'}\n"
     ]
    }
   ],
   "source": [
    "# Source the Iris dataset from sklearn.datasets\n",
    "iris = load_iris()\n",
    "print(type(iris))\n",
    "print(iris)\n",
    "\n"
   ]
  },
  {
   "cell_type": "markdown",
   "metadata": {},
   "source": [
    "Question: Explain, in your own words, what the load_iris() function returns.\n",
    "\n",
    "Answer: The load_iris() function returns a datatype called a Bunch. A bunch is a sub category of a Dictionary, the difference being that a bunch supports attribute-style access.\n",
    "The fucntion is called through a library called sklearn, which is an open-source machine learning library that contains both algorithms that are useful for analysing data, and some classic datasets such as \"Iris\" and \"Digits\" that are frequently used in the teaching of data analysis. \n",
    "The dataset Iris is a classic dataset from Fisher et al., containing measurments/observations from field studies of 3 species of Iris flowering plants. It is frequently used as a first dataset for students to analyse because of its small size, at 150 rows of data, and bacause of its simple-to-understand structure, making the barrier to entry of understanding quite low and therefore more easily accessable for more students begining their data science learning journey. \n",
    "\n",
    "References: \"https://scikit-learn.org/stable/modules/generated/sklearn.utils.Bunch.html\", \"https://www.codecademy.com/resources/docs/sklearn \" "
   ]
  },
  {
   "cell_type": "markdown",
   "metadata": {},
   "source": [
    "## Task 2: Explore the Data Structure"
   ]
  },
  {
   "cell_type": "markdown",
   "metadata": {},
   "source": [
    "question: Print and explain the shape of the data set, the first and last 5 rows of the data, the feature names, and the target classes.\n",
    "\n"
   ]
  },
  {
   "cell_type": "code",
   "execution_count": 3,
   "metadata": {},
   "outputs": [
    {
     "name": "stdout",
     "output_type": "stream",
     "text": [
      "     sepal length (cm)  sepal width (cm)  petal length (cm)  petal width (cm)  \\\n",
      "0                  5.1               3.5                1.4               0.2   \n",
      "1                  4.9               3.0                1.4               0.2   \n",
      "2                  4.7               3.2                1.3               0.2   \n",
      "3                  4.6               3.1                1.5               0.2   \n",
      "4                  5.0               3.6                1.4               0.2   \n",
      "..                 ...               ...                ...               ...   \n",
      "145                6.7               3.0                5.2               2.3   \n",
      "146                6.3               2.5                5.0               1.9   \n",
      "147                6.5               3.0                5.2               2.0   \n",
      "148                6.2               3.4                5.4               2.3   \n",
      "149                5.9               3.0                5.1               1.8   \n",
      "\n",
      "     Species    species  \n",
      "0        0.0     setosa  \n",
      "1        0.0     setosa  \n",
      "2        0.0     setosa  \n",
      "3        0.0     setosa  \n",
      "4        0.0     setosa  \n",
      "..       ...        ...  \n",
      "145      2.0  virginica  \n",
      "146      2.0  virginica  \n",
      "147      2.0  virginica  \n",
      "148      2.0  virginica  \n",
      "149      2.0  virginica  \n",
      "\n",
      "[150 rows x 6 columns]\n"
     ]
    }
   ],
   "source": [
    "df = pd.DataFrame(np.column_stack((iris.data, iris.target)), columns = iris.feature_names+['Species'])\n",
    "df['species'] = pd.Categorical.from_codes(iris.target, iris.target_names)\n",
    "df.rename(columns={'iris.target_names': 'Species_number'}, inplace=True)\n",
    "pd.set_option('display.max_columns', None)\n",
    "\n",
    "df.to_csv('iris.csv') #saves the iris dataframe to a csv file\n",
    "#df.head(150) #shows only the first 150 rows\n",
    "print(df)\n"
   ]
  },
  {
   "cell_type": "markdown",
   "metadata": {},
   "source": [
    "The shape of the dataset is 5 columns x 150 rows. \n",
    "Each of the first 4 colunms contains a floating number, while the fifth column displays a string containing the name of the species of the flower.\n",
    "The first 50 rows have the same information in the species string field, as do the second 50 and the last 50 respectively. \n",
    "\n",
    "references: \"https://www.geeksforgeeks.org/show-all-columns-of-pandas-dataframe-in-jupyter-notebook/ , https://stackoverflow.com/questions/38105539/how-to-convert-a-scikit-learn-dataset-to-a-pandas-dataset, https://pandas.pydata.org/docs/reference/api/pandas.DataFrame.head.html \""
   ]
  },
  {
   "cell_type": "markdown",
   "metadata": {},
   "source": [
    "## Task 3: Summarize the Data"
   ]
  },
  {
   "cell_type": "markdown",
   "metadata": {},
   "source": [
    "Question: For each feature in the dataset, calculate and display:\n",
    "* mean\n",
    "* minimum\n",
    "* maximum\n",
    "* standard deviation\n",
    "* median\n",
    "\n",
    "For this analysis, i am interperting the requiremnt as that each feature will be analysed on each species seperately. "
   ]
  },
  {
   "cell_type": "code",
   "execution_count": 4,
   "metadata": {},
   "outputs": [
    {
     "name": "stdout",
     "output_type": "stream",
     "text": [
      "           sepal length (cm)                                              \\\n",
      "                       count   mean       std  min    25%  50%  75%  max   \n",
      "species                                                                    \n",
      "setosa                  50.0  5.006  0.352490  4.3  4.800  5.0  5.2  5.8   \n",
      "versicolor              50.0  5.936  0.516171  4.9  5.600  5.9  6.3  7.0   \n",
      "virginica               50.0  6.588  0.635880  4.9  6.225  6.5  6.9  7.9   \n",
      "\n",
      "           sepal width (cm)                                                \\\n",
      "                      count   mean       std  min    25%  50%    75%  max   \n",
      "species                                                                     \n",
      "setosa                 50.0  3.428  0.379064  2.3  3.200  3.4  3.675  4.4   \n",
      "versicolor             50.0  2.770  0.313798  2.0  2.525  2.8  3.000  3.4   \n",
      "virginica              50.0  2.974  0.322497  2.2  2.800  3.0  3.175  3.8   \n",
      "\n",
      "           petal length (cm)                                               \\\n",
      "                       count   mean       std  min  25%   50%    75%  max   \n",
      "species                                                                     \n",
      "setosa                  50.0  1.462  0.173664  1.0  1.4  1.50  1.575  1.9   \n",
      "versicolor              50.0  4.260  0.469911  3.0  4.0  4.35  4.600  5.1   \n",
      "virginica               50.0  5.552  0.551895  4.5  5.1  5.55  5.875  6.9   \n",
      "\n",
      "           petal width (cm)                                            \n",
      "                      count   mean       std  min  25%  50%  75%  max  \n",
      "species                                                                \n",
      "setosa                 50.0  0.246  0.105386  0.1  0.2  0.2  0.3  0.6  \n",
      "versicolor             50.0  1.326  0.197753  1.0  1.2  1.3  1.5  1.8  \n",
      "virginica              50.0  2.026  0.274650  1.4  1.8  2.0  2.3  2.5  \n"
     ]
    },
    {
     "name": "stderr",
     "output_type": "stream",
     "text": [
      "/tmp/ipykernel_14873/1402107100.py:4: FutureWarning: The default of observed=False is deprecated and will be changed to True in a future version of pandas. Pass observed=False to retain current behavior or observed=True to adopt the future default and silence this warning.\n",
      "  describe = df.groupby('species')[iris.feature_names].describe() # This allows for a dataframe to be created , containing each feature to be analysed by species seperately.\n"
     ]
    }
   ],
   "source": [
    "uniqueSpecies = df['species'].unique() #gets unique values from Column 'species', giving a non-repeating list of species types. \n",
    "#print(uniqueSpecies)\n",
    "\n",
    "describe = df.groupby('species')[iris.feature_names].describe() # This allows for a dataframe to be created , containing each feature to be analysed by species seperately. \n",
    "print(describe)\n",
    "pd.set_option('display.max_columns', None)\n",
    "\n",
    "describe.to_csv('describe.csv') #saves the describe dataframe to a csv file\n",
    "\n"
   ]
  },
  {
   "cell_type": "markdown",
   "metadata": {},
   "source": [
    "## Task 4: Visualize Features"
   ]
  },
  {
   "cell_type": "markdown",
   "metadata": {},
   "source": [
    "Plot histograms for each feature using matplotlib.\n",
    "Add appropriate titles and axis labels."
   ]
  },
  {
   "cell_type": "code",
   "execution_count": 12,
   "metadata": {},
   "outputs": [
    {
     "name": "stdout",
     "output_type": "stream",
     "text": [
      "    sepal length (cm)  sepal width (cm)  petal length (cm)  petal width (cm)  \\\n",
      "0                 5.1               3.5                1.4               0.2   \n",
      "1                 4.9               3.0                1.4               0.2   \n",
      "2                 4.7               3.2                1.3               0.2   \n",
      "3                 4.6               3.1                1.5               0.2   \n",
      "4                 5.0               3.6                1.4               0.2   \n",
      "5                 5.4               3.9                1.7               0.4   \n",
      "6                 4.6               3.4                1.4               0.3   \n",
      "7                 5.0               3.4                1.5               0.2   \n",
      "8                 4.4               2.9                1.4               0.2   \n",
      "9                 4.9               3.1                1.5               0.1   \n",
      "10                5.4               3.7                1.5               0.2   \n",
      "11                4.8               3.4                1.6               0.2   \n",
      "12                4.8               3.0                1.4               0.1   \n",
      "13                4.3               3.0                1.1               0.1   \n",
      "14                5.8               4.0                1.2               0.2   \n",
      "15                5.7               4.4                1.5               0.4   \n",
      "16                5.4               3.9                1.3               0.4   \n",
      "17                5.1               3.5                1.4               0.3   \n",
      "18                5.7               3.8                1.7               0.3   \n",
      "19                5.1               3.8                1.5               0.3   \n",
      "20                5.4               3.4                1.7               0.2   \n",
      "21                5.1               3.7                1.5               0.4   \n",
      "22                4.6               3.6                1.0               0.2   \n",
      "23                5.1               3.3                1.7               0.5   \n",
      "24                4.8               3.4                1.9               0.2   \n",
      "25                5.0               3.0                1.6               0.2   \n",
      "26                5.0               3.4                1.6               0.4   \n",
      "27                5.2               3.5                1.5               0.2   \n",
      "28                5.2               3.4                1.4               0.2   \n",
      "29                4.7               3.2                1.6               0.2   \n",
      "30                4.8               3.1                1.6               0.2   \n",
      "31                5.4               3.4                1.5               0.4   \n",
      "32                5.2               4.1                1.5               0.1   \n",
      "33                5.5               4.2                1.4               0.2   \n",
      "34                4.9               3.1                1.5               0.2   \n",
      "35                5.0               3.2                1.2               0.2   \n",
      "36                5.5               3.5                1.3               0.2   \n",
      "37                4.9               3.6                1.4               0.1   \n",
      "38                4.4               3.0                1.3               0.2   \n",
      "39                5.1               3.4                1.5               0.2   \n",
      "40                5.0               3.5                1.3               0.3   \n",
      "41                4.5               2.3                1.3               0.3   \n",
      "42                4.4               3.2                1.3               0.2   \n",
      "43                5.0               3.5                1.6               0.6   \n",
      "44                5.1               3.8                1.9               0.4   \n",
      "45                4.8               3.0                1.4               0.3   \n",
      "46                5.1               3.8                1.6               0.2   \n",
      "47                4.6               3.2                1.4               0.2   \n",
      "48                5.3               3.7                1.5               0.2   \n",
      "49                5.0               3.3                1.4               0.2   \n",
      "\n",
      "    Species species  \n",
      "0       0.0  setosa  \n",
      "1       0.0  setosa  \n",
      "2       0.0  setosa  \n",
      "3       0.0  setosa  \n",
      "4       0.0  setosa  \n",
      "5       0.0  setosa  \n",
      "6       0.0  setosa  \n",
      "7       0.0  setosa  \n",
      "8       0.0  setosa  \n",
      "9       0.0  setosa  \n",
      "10      0.0  setosa  \n",
      "11      0.0  setosa  \n",
      "12      0.0  setosa  \n",
      "13      0.0  setosa  \n",
      "14      0.0  setosa  \n",
      "15      0.0  setosa  \n",
      "16      0.0  setosa  \n",
      "17      0.0  setosa  \n",
      "18      0.0  setosa  \n",
      "19      0.0  setosa  \n",
      "20      0.0  setosa  \n",
      "21      0.0  setosa  \n",
      "22      0.0  setosa  \n",
      "23      0.0  setosa  \n",
      "24      0.0  setosa  \n",
      "25      0.0  setosa  \n",
      "26      0.0  setosa  \n",
      "27      0.0  setosa  \n",
      "28      0.0  setosa  \n",
      "29      0.0  setosa  \n",
      "30      0.0  setosa  \n",
      "31      0.0  setosa  \n",
      "32      0.0  setosa  \n",
      "33      0.0  setosa  \n",
      "34      0.0  setosa  \n",
      "35      0.0  setosa  \n",
      "36      0.0  setosa  \n",
      "37      0.0  setosa  \n",
      "38      0.0  setosa  \n",
      "39      0.0  setosa  \n",
      "40      0.0  setosa  \n",
      "41      0.0  setosa  \n",
      "42      0.0  setosa  \n",
      "43      0.0  setosa  \n",
      "44      0.0  setosa  \n",
      "45      0.0  setosa  \n",
      "46      0.0  setosa  \n",
      "47      0.0  setosa  \n",
      "48      0.0  setosa  \n",
      "49      0.0  setosa  \n",
      "    sepal length (cm)  sepal width (cm)  petal length (cm)  petal width (cm)  \\\n",
      "50                7.0               3.2                4.7               1.4   \n",
      "51                6.4               3.2                4.5               1.5   \n",
      "52                6.9               3.1                4.9               1.5   \n",
      "53                5.5               2.3                4.0               1.3   \n",
      "54                6.5               2.8                4.6               1.5   \n",
      "55                5.7               2.8                4.5               1.3   \n",
      "56                6.3               3.3                4.7               1.6   \n",
      "57                4.9               2.4                3.3               1.0   \n",
      "58                6.6               2.9                4.6               1.3   \n",
      "59                5.2               2.7                3.9               1.4   \n",
      "60                5.0               2.0                3.5               1.0   \n",
      "61                5.9               3.0                4.2               1.5   \n",
      "62                6.0               2.2                4.0               1.0   \n",
      "63                6.1               2.9                4.7               1.4   \n",
      "64                5.6               2.9                3.6               1.3   \n",
      "65                6.7               3.1                4.4               1.4   \n",
      "66                5.6               3.0                4.5               1.5   \n",
      "67                5.8               2.7                4.1               1.0   \n",
      "68                6.2               2.2                4.5               1.5   \n",
      "69                5.6               2.5                3.9               1.1   \n",
      "70                5.9               3.2                4.8               1.8   \n",
      "71                6.1               2.8                4.0               1.3   \n",
      "72                6.3               2.5                4.9               1.5   \n",
      "73                6.1               2.8                4.7               1.2   \n",
      "74                6.4               2.9                4.3               1.3   \n",
      "75                6.6               3.0                4.4               1.4   \n",
      "76                6.8               2.8                4.8               1.4   \n",
      "77                6.7               3.0                5.0               1.7   \n",
      "78                6.0               2.9                4.5               1.5   \n",
      "79                5.7               2.6                3.5               1.0   \n",
      "80                5.5               2.4                3.8               1.1   \n",
      "81                5.5               2.4                3.7               1.0   \n",
      "82                5.8               2.7                3.9               1.2   \n",
      "83                6.0               2.7                5.1               1.6   \n",
      "84                5.4               3.0                4.5               1.5   \n",
      "85                6.0               3.4                4.5               1.6   \n",
      "86                6.7               3.1                4.7               1.5   \n",
      "87                6.3               2.3                4.4               1.3   \n",
      "88                5.6               3.0                4.1               1.3   \n",
      "89                5.5               2.5                4.0               1.3   \n",
      "90                5.5               2.6                4.4               1.2   \n",
      "91                6.1               3.0                4.6               1.4   \n",
      "92                5.8               2.6                4.0               1.2   \n",
      "93                5.0               2.3                3.3               1.0   \n",
      "94                5.6               2.7                4.2               1.3   \n",
      "95                5.7               3.0                4.2               1.2   \n",
      "96                5.7               2.9                4.2               1.3   \n",
      "97                6.2               2.9                4.3               1.3   \n",
      "98                5.1               2.5                3.0               1.1   \n",
      "99                5.7               2.8                4.1               1.3   \n",
      "\n",
      "    Species     species  \n",
      "50      1.0  versicolor  \n",
      "51      1.0  versicolor  \n",
      "52      1.0  versicolor  \n",
      "53      1.0  versicolor  \n",
      "54      1.0  versicolor  \n",
      "55      1.0  versicolor  \n",
      "56      1.0  versicolor  \n",
      "57      1.0  versicolor  \n",
      "58      1.0  versicolor  \n",
      "59      1.0  versicolor  \n",
      "60      1.0  versicolor  \n",
      "61      1.0  versicolor  \n",
      "62      1.0  versicolor  \n",
      "63      1.0  versicolor  \n",
      "64      1.0  versicolor  \n",
      "65      1.0  versicolor  \n",
      "66      1.0  versicolor  \n",
      "67      1.0  versicolor  \n",
      "68      1.0  versicolor  \n",
      "69      1.0  versicolor  \n",
      "70      1.0  versicolor  \n",
      "71      1.0  versicolor  \n",
      "72      1.0  versicolor  \n",
      "73      1.0  versicolor  \n",
      "74      1.0  versicolor  \n",
      "75      1.0  versicolor  \n",
      "76      1.0  versicolor  \n",
      "77      1.0  versicolor  \n",
      "78      1.0  versicolor  \n",
      "79      1.0  versicolor  \n",
      "80      1.0  versicolor  \n",
      "81      1.0  versicolor  \n",
      "82      1.0  versicolor  \n",
      "83      1.0  versicolor  \n",
      "84      1.0  versicolor  \n",
      "85      1.0  versicolor  \n",
      "86      1.0  versicolor  \n",
      "87      1.0  versicolor  \n",
      "88      1.0  versicolor  \n",
      "89      1.0  versicolor  \n",
      "90      1.0  versicolor  \n",
      "91      1.0  versicolor  \n",
      "92      1.0  versicolor  \n",
      "93      1.0  versicolor  \n",
      "94      1.0  versicolor  \n",
      "95      1.0  versicolor  \n",
      "96      1.0  versicolor  \n",
      "97      1.0  versicolor  \n",
      "98      1.0  versicolor  \n",
      "99      1.0  versicolor  \n",
      "     sepal length (cm)  sepal width (cm)  petal length (cm)  petal width (cm)  \\\n",
      "100                6.3               3.3                6.0               2.5   \n",
      "101                5.8               2.7                5.1               1.9   \n",
      "102                7.1               3.0                5.9               2.1   \n",
      "103                6.3               2.9                5.6               1.8   \n",
      "104                6.5               3.0                5.8               2.2   \n",
      "105                7.6               3.0                6.6               2.1   \n",
      "106                4.9               2.5                4.5               1.7   \n",
      "107                7.3               2.9                6.3               1.8   \n",
      "108                6.7               2.5                5.8               1.8   \n",
      "109                7.2               3.6                6.1               2.5   \n",
      "110                6.5               3.2                5.1               2.0   \n",
      "111                6.4               2.7                5.3               1.9   \n",
      "112                6.8               3.0                5.5               2.1   \n",
      "113                5.7               2.5                5.0               2.0   \n",
      "114                5.8               2.8                5.1               2.4   \n",
      "115                6.4               3.2                5.3               2.3   \n",
      "116                6.5               3.0                5.5               1.8   \n",
      "117                7.7               3.8                6.7               2.2   \n",
      "118                7.7               2.6                6.9               2.3   \n",
      "119                6.0               2.2                5.0               1.5   \n",
      "120                6.9               3.2                5.7               2.3   \n",
      "121                5.6               2.8                4.9               2.0   \n",
      "122                7.7               2.8                6.7               2.0   \n",
      "123                6.3               2.7                4.9               1.8   \n",
      "124                6.7               3.3                5.7               2.1   \n",
      "125                7.2               3.2                6.0               1.8   \n",
      "126                6.2               2.8                4.8               1.8   \n",
      "127                6.1               3.0                4.9               1.8   \n",
      "128                6.4               2.8                5.6               2.1   \n",
      "129                7.2               3.0                5.8               1.6   \n",
      "130                7.4               2.8                6.1               1.9   \n",
      "131                7.9               3.8                6.4               2.0   \n",
      "132                6.4               2.8                5.6               2.2   \n",
      "133                6.3               2.8                5.1               1.5   \n",
      "134                6.1               2.6                5.6               1.4   \n",
      "135                7.7               3.0                6.1               2.3   \n",
      "136                6.3               3.4                5.6               2.4   \n",
      "137                6.4               3.1                5.5               1.8   \n",
      "138                6.0               3.0                4.8               1.8   \n",
      "139                6.9               3.1                5.4               2.1   \n",
      "140                6.7               3.1                5.6               2.4   \n",
      "141                6.9               3.1                5.1               2.3   \n",
      "142                5.8               2.7                5.1               1.9   \n",
      "143                6.8               3.2                5.9               2.3   \n",
      "144                6.7               3.3                5.7               2.5   \n",
      "145                6.7               3.0                5.2               2.3   \n",
      "146                6.3               2.5                5.0               1.9   \n",
      "147                6.5               3.0                5.2               2.0   \n",
      "148                6.2               3.4                5.4               2.3   \n",
      "149                5.9               3.0                5.1               1.8   \n",
      "\n",
      "     Species    species  \n",
      "100      2.0  virginica  \n",
      "101      2.0  virginica  \n",
      "102      2.0  virginica  \n",
      "103      2.0  virginica  \n",
      "104      2.0  virginica  \n",
      "105      2.0  virginica  \n",
      "106      2.0  virginica  \n",
      "107      2.0  virginica  \n",
      "108      2.0  virginica  \n",
      "109      2.0  virginica  \n",
      "110      2.0  virginica  \n",
      "111      2.0  virginica  \n",
      "112      2.0  virginica  \n",
      "113      2.0  virginica  \n",
      "114      2.0  virginica  \n",
      "115      2.0  virginica  \n",
      "116      2.0  virginica  \n",
      "117      2.0  virginica  \n",
      "118      2.0  virginica  \n",
      "119      2.0  virginica  \n",
      "120      2.0  virginica  \n",
      "121      2.0  virginica  \n",
      "122      2.0  virginica  \n",
      "123      2.0  virginica  \n",
      "124      2.0  virginica  \n",
      "125      2.0  virginica  \n",
      "126      2.0  virginica  \n",
      "127      2.0  virginica  \n",
      "128      2.0  virginica  \n",
      "129      2.0  virginica  \n",
      "130      2.0  virginica  \n",
      "131      2.0  virginica  \n",
      "132      2.0  virginica  \n",
      "133      2.0  virginica  \n",
      "134      2.0  virginica  \n",
      "135      2.0  virginica  \n",
      "136      2.0  virginica  \n",
      "137      2.0  virginica  \n",
      "138      2.0  virginica  \n",
      "139      2.0  virginica  \n",
      "140      2.0  virginica  \n",
      "141      2.0  virginica  \n",
      "142      2.0  virginica  \n",
      "143      2.0  virginica  \n",
      "144      2.0  virginica  \n",
      "145      2.0  virginica  \n",
      "146      2.0  virginica  \n",
      "147      2.0  virginica  \n",
      "148      2.0  virginica  \n",
      "149      2.0  virginica  \n"
     ]
    },
    {
     "data": {
      "image/png": "[encoded data removed]",
      "text/plain": [
       "<Figure size 640x480 with 1 Axes>"
      ]
     },
     "metadata": {},
     "output_type": "display_data"
    },
    {
     "data": {
      "image/png": "[encoded data removed]",
      "text/plain": [
       "<Figure size 640x480 with 1 Axes>"
      ]
     },
     "metadata": {},
     "output_type": "display_data"
    },
    {
     "data": {
      "image/png": "[encoded data removed]",
      "text/plain": [
       "<Figure size 640x480 with 1 Axes>"
      ]
     },
     "metadata": {},
     "output_type": "display_data"
    }
   ],
   "source": [
    "# split the main iris dataframe into three smaller dataframes to make calling individually simpler\n",
    "df1 = df[df['species'] == uniqueSpecies[0]] #Setosa\n",
    "df2 = df[df['species'] == uniqueSpecies[1]] #Versicolor\n",
    "df3 = df[df['species'] == uniqueSpecies[2]] #Virginicia\n",
    "print (df1)\n",
    "print (df2)\n",
    "print (df3)\n",
    "\n",
    "\n",
    "\n",
    "\n",
    "# Histograms for Petal and Sepal length each species\n",
    "ax1 = df1.plot(kind = 'hist', title ='Histogram of Setosa Measurments', alpha = 0.8, bins = 25, xlabel = 'Length (cm)', ylabel = 'Frequency')\n",
    "ax2 = df2.plot(kind = 'hist', title ='Histogram of Versicolor Measurments', alpha = 0.8, bins = 25, xlabel = 'Length (cm)', ylabel = 'Frequency')\n",
    "ax3 = df3.plot(kind = 'hist', title ='Histogram of Virginicia Measurments', alpha = 0.8, bins = 25, xlabel = 'Length (cm)', ylabel = 'Frequency')\n",
    "\n",
    "pt.savefig('histogramSetosa.png')\n",
    "pt.show()"
   ]
  },
  {
   "cell_type": "markdown",
   "metadata": {},
   "source": [
    "## Task 5: Investigate Relationships\n"
   ]
  },
  {
   "cell_type": "markdown",
   "metadata": {},
   "source": [
    "Choose any two features from the data set and create a scatter plot of them.\n",
    "Color-code the three different classes of the scatter plot points."
   ]
  },
  {
   "cell_type": "code",
   "execution_count": null,
   "metadata": {},
   "outputs": [],
   "source": []
  },
  {
   "cell_type": "code",
   "execution_count": 16,
   "metadata": {},
   "outputs": [
    {
     "name": "stdout",
     "output_type": "stream",
     "text": [
      "0.7985283006471534 -0.5694326730396492\n",
      "0.20124509405873603 -0.04822032751387205\n",
      "0.31971934554813447 0.8721459648262744\n",
      "0.3310536044362293 -0.08428835489833601\n",
      "0.23189049503351336 1.4463054187192137\n",
      "0.16029695540308708 1.1360313036020602\n"
     ]
    },
    {
     "data": {
      "image/png": "[encoded data removed]",
      "text/plain": [
       "<Figure size 640x480 with 1 Axes>"
      ]
     },
     "metadata": {},
     "output_type": "display_data"
    }
   ],
   "source": [
    "#Scatterplot\n",
    "# define plot parameters - \n",
    "# come back to this because i should be able to run this in a for loop to select the different species names automatically from Unique Species array. \n",
    "colors = ['r','g','b','y', ]\n",
    "ax7=df1.plot(kind = 'scatter', x = 'sepal length (cm)', y = 'sepal width (cm)', marker = '.', c = 'red' , label = 'Setosa Sepal')\n",
    "ax8=df1.plot(kind = 'scatter', x = 'petal length (cm)', y = 'petal width (cm)', marker = 'x', c = 'magenta', label = 'Setosa Petal', ax = ax7)\n",
    "ax9=df2.plot(kind = 'scatter', x = 'sepal length (cm)', y = 'sepal width (cm)', marker = '.', c = 'blue' , label = 'Versicolor Sepal',ax = ax7)\n",
    "ax10=df2.plot(kind = 'scatter', x = 'petal length (cm)', y = 'petal width (cm)', marker = 'x', c = 'cyan', label = 'Versicolor Petal', ax = ax7)\n",
    "ax11=df3.plot(kind = 'scatter', x = 'sepal length (cm)', y = 'sepal width (cm)', marker = '.', c = 'yellow' , label = 'Virginica Sepal',ax = ax7)\n",
    "ax12=df3.plot(kind = 'scatter', x = 'petal length (cm)', y = 'petal width (cm)', marker = 'x', c = 'orange', label = 'Virginica Petal', ax = ax7, legend =True)\n",
    "\n",
    "#calculate the straight line best fits for each dataset pair\n",
    "b1, a1 = np.polyfit(df1['sepal length (cm)'], df1['sepal width (cm)'], deg=1)\n",
    "b2, a2 = np.polyfit(df1['petal length (cm)'], df1['petal width (cm)'], deg=1)\n",
    "b3, a3 = np.polyfit(df2['sepal length (cm)'], df2['sepal width (cm)'], deg=1)\n",
    "b4, a4 = np.polyfit(df2['petal length (cm)'], df2['petal width (cm)'], deg=1)\n",
    "b5, a5 = np.polyfit(df3['sepal length (cm)'], df3['sepal width (cm)'], deg=1)\n",
    "b6, a6 = np.polyfit(df3['petal length (cm)'], df3['petal width (cm)'], deg=1)\n",
    "\n",
    "# set upper and lower limits for lines to start and finish at \n",
    "xseq1 = np.linspace(min(df1['sepal length (cm)']), max(df1['sepal length (cm)']), num=100)\n",
    "xseq2 = np.linspace(min(df1['petal length (cm)']), max(df1['petal length (cm)']), num=100)\n",
    "xseq3 = np.linspace(min(df2['sepal length (cm)']), max(df2['sepal length (cm)']), num=100)\n",
    "xseq4 = np.linspace(min(df2['petal length (cm)']), max(df2['petal length (cm)']), num=100)\n",
    "xseq5 = np.linspace(min(df3['sepal length (cm)']), max(df3['sepal length (cm)']), num=100)\n",
    "xseq6 = np.linspace(min(df3['petal length (cm)']), max(df3['petal length (cm)']), num=100)\n",
    "\n",
    "#print a & b pairs for each pair\n",
    "print(b1,a1)\n",
    "print(b2,a2)\n",
    "print(b3,a3)\n",
    "print(b4,a4)\n",
    "print(b5,a5)\n",
    "print(b6,a6)\n",
    "\n",
    "# add straight line regression lines to each scatterplot pair\n",
    "ax22=pt.plot(xseq1, a1 + b1 * xseq1, c = 'red', label = 'Setosa Sepal')\n",
    "ax23=pt.plot(xseq2, a2 + b2 * xseq2, c = 'magenta', label = 'Setosa Petal')\n",
    "ax24=pt.plot(xseq3, a3 + b3 * xseq3, c = 'blue' , label = 'Versicolor Sepal')\n",
    "ax25=pt.plot(xseq4, a4 + b4 * xseq4, c = 'cyan', label = 'Versicolor Petal')\n",
    "ax26=pt.plot(xseq5, a5 + b5 * xseq5, c = 'yellow' , label = 'Virginica Sepal')\n",
    "ax27=pt.plot(xseq6, a6 + b6 * xseq6, c = 'orange', label = 'Virginica Petal')\n",
    "\n",
    "# define plot labels\n",
    "ax7.set_xlabel('Length (cm)')\n",
    "ax7.set_ylabel('Width (cm)')\n",
    "\n",
    "# command to show plot \n",
    "pt.savefig('scatterplotsummary.png')\n",
    "pt.show()"
   ]
  },
  {
   "cell_type": "markdown",
   "metadata": {},
   "source": [
    "## Task 6: Analyze Relationship"
   ]
  },
  {
   "cell_type": "markdown",
   "metadata": {},
   "source": [
    "Use numpy.polyfit to add a regression line to the scatter plot from Task 5."
   ]
  },
  {
   "cell_type": "code",
   "execution_count": null,
   "metadata": {},
   "outputs": [],
   "source": []
  },
  {
   "cell_type": "markdown",
   "metadata": {},
   "source": [
    "## Task 7: Analyze Class Distributions"
   ]
  },
  {
   "cell_type": "markdown",
   "metadata": {},
   "source": [
    "Create box-plots of the petal lengths for each of the three classes."
   ]
  },
  {
   "cell_type": "code",
   "execution_count": null,
   "metadata": {},
   "outputs": [],
   "source": []
  },
  {
   "cell_type": "markdown",
   "metadata": {},
   "source": [
    "## Task 8: Compute Correlations"
   ]
  },
  {
   "cell_type": "markdown",
   "metadata": {},
   "source": [
    "Calculate the correlation coefficients between the features.\n",
    "Display the results as a heatmap using matplotlib."
   ]
  },
  {
   "cell_type": "code",
   "execution_count": null,
   "metadata": {},
   "outputs": [],
   "source": []
  },
  {
   "cell_type": "markdown",
   "metadata": {},
   "source": [
    "## Task 9: Fit a Simple Linear Regression"
   ]
  },
  {
   "cell_type": "markdown",
   "metadata": {},
   "source": [
    "For your two features in Task 5, calculate the coefficient of determination R <sup>2</sup>.\n",
    "Re-create the plot from Task 6 and annotate it with the R<sup>2</sup> value."
   ]
  },
  {
   "cell_type": "code",
   "execution_count": null,
   "metadata": {},
   "outputs": [],
   "source": []
  },
  {
   "cell_type": "markdown",
   "metadata": {},
   "source": [
    "## Task 10: Too Many Features"
   ]
  },
  {
   "cell_type": "markdown",
   "metadata": {},
   "source": [
    "Use seaborn to create a pairplot of the data set.\n",
    "Explain, in your own words, what the pairplot depicts."
   ]
  },
  {
   "cell_type": "code",
   "execution_count": null,
   "metadata": {},
   "outputs": [],
   "source": []
  },
  {
   "cell_type": "markdown",
   "metadata": {},
   "source": [
    "## End"
   ]
  }
 ],
 "metadata": {
  "kernelspec": {
   "display_name": "Python 3",
   "language": "python",
   "name": "python3"
  },
  "language_info": {
   "codemirror_mode": {
    "name": "ipython",
    "version": 3
   },
   "file_extension": ".py",
   "mimetype": "text/x-python",
   "name": "python",
   "nbconvert_exporter": "python",
   "pygments_lexer": "ipython3",
   "version": "3.12.1"
  }
 },
 "nbformat": 4,
 "nbformat_minor": 2
}
